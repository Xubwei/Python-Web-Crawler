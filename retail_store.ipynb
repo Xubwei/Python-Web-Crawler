{
 "cells": [
  {
   "cell_type": "code",
   "execution_count": 1,
   "id": "ddd68aa4",
   "metadata": {},
   "outputs": [],
   "source": [
    "import time\n",
    "import json\n",
    "import random\n",
    "import requests\n",
    "import pandas as pd\n",
    "from bs4 import BeautifulSoup"
   ]
  },
  {
   "cell_type": "markdown",
   "id": "eb94e02a",
   "metadata": {},
   "source": [
    "### 棉花田"
   ]
  },
  {
   "cell_type": "code",
   "execution_count": 2,
   "id": "bb3f92e0",
   "metadata": {},
   "outputs": [
    {
     "name": "stdout",
     "output_type": "stream",
     "text": [
      "Crawling: https://www.sun-organism.com.tw/store.php?area=0&p=1\n",
      "Crawling: https://www.sun-organism.com.tw/store.php?area=0&p=2\n",
      "Crawling: https://www.sun-organism.com.tw/store.php?area=0&p=3\n",
      "Crawling: https://www.sun-organism.com.tw/store.php?area=0&p=4\n",
      "Crawling: https://www.sun-organism.com.tw/store.php?area=0&p=5\n",
      "Crawling: https://www.sun-organism.com.tw/store.php?area=0&p=6\n",
      "Crawling: https://www.sun-organism.com.tw/store.php?area=0&p=7\n",
      "Crawling: https://www.sun-organism.com.tw/store.php?area=0&p=8\n",
      "Crawling: https://www.sun-organism.com.tw/store.php?area=0&p=9\n",
      "Crawling: https://www.sun-organism.com.tw/store.php?area=0&p=10\n",
      "Crawling: https://www.sun-organism.com.tw/store.php?area=0&p=11\n",
      "Crawling: https://www.sun-organism.com.tw/store.php?area=0&p=12\n",
      "Crawling: https://www.sun-organism.com.tw/store.php?area=0&p=13\n",
      "Crawling: https://www.sun-organism.com.tw/store.php?area=0&p=14\n",
      "Crawling: https://www.sun-organism.com.tw/store.php?area=0&p=15\n"
     ]
    }
   ],
   "source": [
    "store = []\n",
    "address = []\n",
    "\n",
    "for i in range(1, 16):\n",
    "    url = f\"https://www.sun-organism.com.tw/store.php?area=0&p={i}\"\n",
    "    re  = requests.get(url)\n",
    "    if re.status_code == 200:\n",
    "        print(\"Crawling:\", url)\n",
    "        soup = BeautifulSoup(re.text, \"lxml\")\n",
    "\n",
    "        for s in soup.find_all(\"div\", {\"class\": \"store_title\"}):\n",
    "            store.append(s.text.split(\"查看\")[0])\n",
    "        for s in soup.find_all(\"li\", {\"class\": \"store_ico03\"}):\n",
    "            address.append(s.text.split(\"查看\")[0])\n",
    "    else:\n",
    "        print(\"Error:\", url)\n",
    "        continue"
   ]
  },
  {
   "cell_type": "code",
   "execution_count": 4,
   "id": "c7053f02",
   "metadata": {},
   "outputs": [],
   "source": [
    "data = {}\n",
    "for i in range(len(store)):\n",
    "    data[store[i]] = address[i]\n",
    "\n",
    "for s in store:\n",
    "    if \"(\" in s:\n",
    "        del data[s]"
   ]
  },
  {
   "cell_type": "code",
   "execution_count": 6,
   "id": "5d1b5cb9",
   "metadata": {
    "scrolled": true
   },
   "outputs": [
    {
     "data": {
      "text/html": [
       "<div>\n",
       "<style scoped>\n",
       "    .dataframe tbody tr th:only-of-type {\n",
       "        vertical-align: middle;\n",
       "    }\n",
       "\n",
       "    .dataframe tbody tr th {\n",
       "        vertical-align: top;\n",
       "    }\n",
       "\n",
       "    .dataframe thead th {\n",
       "        text-align: right;\n",
       "    }\n",
       "</style>\n",
       "<table border=\"1\" class=\"dataframe\">\n",
       "  <thead>\n",
       "    <tr style=\"text-align: right;\">\n",
       "      <th></th>\n",
       "      <th>store</th>\n",
       "      <th>address</th>\n",
       "    </tr>\n",
       "  </thead>\n",
       "  <tbody>\n",
       "    <tr>\n",
       "      <th>0</th>\n",
       "      <td>敦南門市</td>\n",
       "      <td>台北市大安區敦化南路二段81巷65號</td>\n",
       "    </tr>\n",
       "    <tr>\n",
       "      <th>1</th>\n",
       "      <td>民生東門市</td>\n",
       "      <td>台北市松山區民生東路四段80巷4號</td>\n",
       "    </tr>\n",
       "    <tr>\n",
       "      <th>2</th>\n",
       "      <td>江山門市</td>\n",
       "      <td>台北市中山區龍江路281巷1號</td>\n",
       "    </tr>\n",
       "    <tr>\n",
       "      <th>3</th>\n",
       "      <td>博愛門市</td>\n",
       "      <td>台北市中正區博愛路89號</td>\n",
       "    </tr>\n",
       "    <tr>\n",
       "      <th>4</th>\n",
       "      <td>福州門市</td>\n",
       "      <td>台北市中正區福州街11-10號</td>\n",
       "    </tr>\n",
       "  </tbody>\n",
       "</table>\n",
       "</div>"
      ],
      "text/plain": [
       "   store             address\n",
       "0   敦南門市  台北市大安區敦化南路二段81巷65號\n",
       "1  民生東門市   台北市松山區民生東路四段80巷4號\n",
       "2   江山門市     台北市中山區龍江路281巷1號\n",
       "3   博愛門市        台北市中正區博愛路89號\n",
       "4   福州門市     台北市中正區福州街11-10號"
      ]
     },
     "execution_count": 6,
     "metadata": {},
     "output_type": "execute_result"
    }
   ],
   "source": [
    "DataFrame = {\n",
    "    \"store\": data.keys(),\n",
    "    \"address\": data.values(),\n",
    "}\n",
    "\n",
    "file_name = f\"棉花田\"\n",
    "df = pd.DataFrame(DataFrame)\n",
    "df.head()"
   ]
  },
  {
   "cell_type": "markdown",
   "id": "bc171dee",
   "metadata": {},
   "source": [
    "### 義美"
   ]
  },
  {
   "cell_type": "code",
   "execution_count": 7,
   "id": "789c33d9",
   "metadata": {},
   "outputs": [],
   "source": [
    "store = []\n",
    "address = []\n",
    "\n",
    "url = \"https://www.imeifoods.com.tw/retail/\"\n",
    "\n",
    "re = requests.get(url)\n",
    "soup = BeautifulSoup(re.text, \"lxml\")\n",
    "\n",
    "for s in soup.find_all(\"td\", {\"class\": \"atable02\"}):\n",
    "    # 刪除空值\n",
    "    if s.text != \"\":\n",
    "        store.append(s.text.encode(\"ISO8859-1\").decode(\"utf-8\"))\n",
    "        \n",
    "for s in soup.find_all(\"td\", {\"class\": \"atable01\"}):\n",
    "    # 刪除空值 & 電話\n",
    "    if \"市\" in s.text.encode(\"ISO8859-1\").decode(\"utf-8\") or \"縣\" in s.text.encode(\"ISO8859-1\").decode(\"utf-8\"):\n",
    "        address.append(s.text.encode(\"ISO8859-1\").decode(\"utf-8\"))"
   ]
  },
  {
   "cell_type": "code",
   "execution_count": 8,
   "id": "b5ec13a9",
   "metadata": {},
   "outputs": [
    {
     "data": {
      "text/html": [
       "<div>\n",
       "<style scoped>\n",
       "    .dataframe tbody tr th:only-of-type {\n",
       "        vertical-align: middle;\n",
       "    }\n",
       "\n",
       "    .dataframe tbody tr th {\n",
       "        vertical-align: top;\n",
       "    }\n",
       "\n",
       "    .dataframe thead th {\n",
       "        text-align: right;\n",
       "    }\n",
       "</style>\n",
       "<table border=\"1\" class=\"dataframe\">\n",
       "  <thead>\n",
       "    <tr style=\"text-align: right;\">\n",
       "      <th></th>\n",
       "      <th>store</th>\n",
       "      <th>address</th>\n",
       "    </tr>\n",
       "  </thead>\n",
       "  <tbody>\n",
       "    <tr>\n",
       "      <th>0</th>\n",
       "      <td>基隆仁二門市</td>\n",
       "      <td>基隆市仁愛區仁二路210-1號1樓</td>\n",
       "    </tr>\n",
       "    <tr>\n",
       "      <th>1</th>\n",
       "      <td>蘭雅門市</td>\n",
       "      <td>台北市士林區中山北路六段260號</td>\n",
       "    </tr>\n",
       "    <tr>\n",
       "      <th>2</th>\n",
       "      <td>天母門市</td>\n",
       "      <td>台北市士林區天母西路42號</td>\n",
       "    </tr>\n",
       "    <tr>\n",
       "      <th>3</th>\n",
       "      <td>士林門市</td>\n",
       "      <td>台北市士林區中正路268-2號</td>\n",
       "    </tr>\n",
       "    <tr>\n",
       "      <th>4</th>\n",
       "      <td>延平門市</td>\n",
       "      <td>台北市大同區延平北路二段29號</td>\n",
       "    </tr>\n",
       "  </tbody>\n",
       "</table>\n",
       "</div>"
      ],
      "text/plain": [
       "    store            address\n",
       "0  基隆仁二門市  基隆市仁愛區仁二路210-1號1樓\n",
       "1    蘭雅門市   台北市士林區中山北路六段260號\n",
       "2    天母門市      台北市士林區天母西路42號\n",
       "3    士林門市    台北市士林區中正路268-2號\n",
       "4    延平門市    台北市大同區延平北路二段29號"
      ]
     },
     "execution_count": 8,
     "metadata": {},
     "output_type": "execute_result"
    }
   ],
   "source": [
    "DataFrame = {\n",
    "    \"store\": store,\n",
    "    \"address\": address,\n",
    "}\n",
    "\n",
    "file_name = f\"新東陽\"\n",
    "df = pd.DataFrame(DataFrame)\n",
    "df.head()"
   ]
  },
  {
   "cell_type": "markdown",
   "id": "6d4dba76",
   "metadata": {},
   "source": [
    "### 美珍香"
   ]
  },
  {
   "cell_type": "code",
   "execution_count": 10,
   "id": "69147191",
   "metadata": {},
   "outputs": [],
   "source": [
    "def crawler(url):\n",
    "    re = requests.get(url)\n",
    "    if re.status_code == 200:\n",
    "        print(f\"Crawling: {url}\")\n",
    "        soup = BeautifulSoup(re.text, \"lxml\")\n",
    "    else:\n",
    "        print(f\"Error while crawling: {url}\")\n",
    "    \n",
    "    return soup"
   ]
  },
  {
   "cell_type": "code",
   "execution_count": 11,
   "id": "f791ea92",
   "metadata": {},
   "outputs": [
    {
     "name": "stdout",
     "output_type": "stream",
     "text": [
      "Crawling: https://www.beechenghiang.com.tw/pages/taipei\n",
      "Crawling: https://www.beechenghiang.com.tw/pages/new-taipei\n",
      "Crawling: https://www.beechenghiang.com.tw/pages/taoyuan\n",
      "Crawling: https://www.beechenghiang.com.tw/pages/hsinchu\n",
      "Crawling: https://www.beechenghiang.com.tw/pages/taichung-yunlin\n",
      "Crawling: https://www.beechenghiang.com.tw/pages/chiayi-tainan\n",
      "Crawling: https://www.beechenghiang.com.tw/pages/kaohsiung\n"
     ]
    }
   ],
   "source": [
    "root = \"https://www.beechenghiang.com.tw/pages/\"\n",
    "city = [\"taipei\", \"new-taipei\", \"taoyuan\", \"hsinchu\", \"taichung-yunlin\", \"chiayi-tainan\", \"kaohsiung\"]\n",
    "\n",
    "store = []\n",
    "address = []\n",
    "\n",
    "for c in city:\n",
    "    url = f\"{root}{c}\"\n",
    "    \n",
    "    # 爬取各城市門店\n",
    "    soup = crawler(url)\n",
    "    \n",
    "    for s in soup.find_all(\"div\", {\"class\": \"custom-page\"}):\n",
    "        for s1 in s.find_all(\"div\", {\"class\": \"description\"}):\n",
    "            for s2 in s1.find_all(\"p\"):\n",
    "                if \"美珍香\" in s2.text:\n",
    "                    store.append(s2.text)\n",
    "                if \"市\" in s2.text or \"縣\" in s2.text:\n",
    "                    address.append(s2.text)\n",
    "                    \n",
    "# Tidy data\n",
    "for s in range(len(store)):\n",
    "    store[s] = store[s].replace(\"店\", \"店-\").split(\"-\")[0].replace(\"\\n\", \"\")"
   ]
  },
  {
   "cell_type": "code",
   "execution_count": 12,
   "id": "9a096a55",
   "metadata": {},
   "outputs": [
    {
     "data": {
      "text/html": [
       "<div>\n",
       "<style scoped>\n",
       "    .dataframe tbody tr th:only-of-type {\n",
       "        vertical-align: middle;\n",
       "    }\n",
       "\n",
       "    .dataframe tbody tr th {\n",
       "        vertical-align: top;\n",
       "    }\n",
       "\n",
       "    .dataframe thead th {\n",
       "        text-align: right;\n",
       "    }\n",
       "</style>\n",
       "<table border=\"1\" class=\"dataframe\">\n",
       "  <thead>\n",
       "    <tr style=\"text-align: right;\">\n",
       "      <th></th>\n",
       "      <th>store</th>\n",
       "      <th>address</th>\n",
       "    </tr>\n",
       "  </thead>\n",
       "  <tbody>\n",
       "    <tr>\n",
       "      <th>0</th>\n",
       "      <td>美珍香 衡陽店</td>\n",
       "      <td>台北市衡陽路120號-7(遠東百貨斜對面)</td>\n",
       "    </tr>\n",
       "    <tr>\n",
       "      <th>1</th>\n",
       "      <td>美珍香 忠孝一店</td>\n",
       "      <td>台北市忠孝東路四段12號(SOGO百貨斜對面)</td>\n",
       "    </tr>\n",
       "    <tr>\n",
       "      <th>2</th>\n",
       "      <td>美珍香 忠孝二店</td>\n",
       "      <td>台北市忠孝東路四段75號</td>\n",
       "    </tr>\n",
       "    <tr>\n",
       "      <th>3</th>\n",
       "      <td>美珍香 公館店</td>\n",
       "      <td>台北市羅斯福路四段6-1號(台灣大學對面)</td>\n",
       "    </tr>\n",
       "    <tr>\n",
       "      <th>4</th>\n",
       "      <td>美珍香 士林店</td>\n",
       "      <td>台北市士林區中正路273號</td>\n",
       "    </tr>\n",
       "  </tbody>\n",
       "</table>\n",
       "</div>"
      ],
      "text/plain": [
       "      store                  address\n",
       "0   美珍香 衡陽店    台北市衡陽路120號-7(遠東百貨斜對面)\n",
       "1  美珍香 忠孝一店  台北市忠孝東路四段12號(SOGO百貨斜對面)\n",
       "2  美珍香 忠孝二店             台北市忠孝東路四段75號\n",
       "3   美珍香 公館店    台北市羅斯福路四段6-1號(台灣大學對面)\n",
       "4   美珍香 士林店            台北市士林區中正路273號"
      ]
     },
     "execution_count": 12,
     "metadata": {},
     "output_type": "execute_result"
    }
   ],
   "source": [
    "DataFrame = {\n",
    "    \"store\": store,\n",
    "    \"address\": address,\n",
    "}\n",
    "\n",
    "file_name = f\"美珍香\"\n",
    "df = pd.DataFrame(DataFrame)\n",
    "df.head()"
   ]
  },
  {
   "cell_type": "markdown",
   "id": "2190295c",
   "metadata": {},
   "source": [
    "### 啄木鳥"
   ]
  },
  {
   "cell_type": "code",
   "execution_count": 13,
   "id": "30a59892",
   "metadata": {},
   "outputs": [
    {
     "name": "stdout",
     "output_type": "stream",
     "text": [
      "Crawling: https://www.woodpecker.com.tw/info/location/門市-宜蘭縣\n",
      "Crawling: https://www.woodpecker.com.tw/info/location/門市-基隆市\n",
      "Crawling: https://www.woodpecker.com.tw/info/location/門市-台北市\n",
      "Crawling: https://www.woodpecker.com.tw/info/location/門市-新北市\n",
      "Crawling: https://www.woodpecker.com.tw/info/location/門市-桃園市\n",
      "Crawling: https://www.woodpecker.com.tw/info/location/門市-新竹縣市\n",
      "Crawling: https://www.woodpecker.com.tw/info/location/門市-苗栗縣\n",
      "Crawling: https://www.woodpecker.com.tw/info/location/門市-台中市\n",
      "Crawling: https://www.woodpecker.com.tw/info/location/門市-彰化縣\n",
      "Crawling: https://www.woodpecker.com.tw/info/location/門市-南投縣\n",
      "Crawling: https://www.woodpecker.com.tw/info/location/門市-雲林縣\n",
      "Crawling: https://www.woodpecker.com.tw/info/location/門市-嘉義縣\n",
      "Crawling: https://www.woodpecker.com.tw/info/location/門市-台南市\n",
      "Crawling: https://www.woodpecker.com.tw/info/location/門市-高雄市\n",
      "Crawling: https://www.woodpecker.com.tw/info/location/門市-屏東縣\n"
     ]
    }
   ],
   "source": [
    "store = []\n",
    "address = []\n",
    "\n",
    "city = [\"宜蘭縣\", \"基隆市\", \"台北市\", \"新北市\", \"桃園市\", \"新竹縣市\", \"苗栗縣\", \n",
    "        \"台中市\", \"彰化縣\", \"南投縣\", \"雲林縣\", \"嘉義縣\",   \"台南市\", \"高雄市\", \"屏東縣\"]\n",
    "\n",
    "for c in city:\n",
    "    url = f\"https://www.woodpecker.com.tw/info/location/門市-{c}\"\n",
    "    soup = crawler(url)\n",
    "    \n",
    "    for s in soup.find_all(\"div\", {\"class\": \"detail_area\"}):\n",
    "        for s1 in s.find_all(\"h3\"):\n",
    "            store.append(s1.text)\n",
    "        for s2 in s.find_all(\"p\"):\n",
    "            if \"號\" in s2.text:\n",
    "                address.append(s2.text)"
   ]
  },
  {
   "cell_type": "code",
   "execution_count": 14,
   "id": "c0953731",
   "metadata": {},
   "outputs": [
    {
     "data": {
      "text/html": [
       "<div>\n",
       "<style scoped>\n",
       "    .dataframe tbody tr th:only-of-type {\n",
       "        vertical-align: middle;\n",
       "    }\n",
       "\n",
       "    .dataframe tbody tr th {\n",
       "        vertical-align: top;\n",
       "    }\n",
       "\n",
       "    .dataframe thead th {\n",
       "        text-align: right;\n",
       "    }\n",
       "</style>\n",
       "<table border=\"1\" class=\"dataframe\">\n",
       "  <thead>\n",
       "    <tr style=\"text-align: right;\">\n",
       "      <th></th>\n",
       "      <th>store</th>\n",
       "      <th>address</th>\n",
       "    </tr>\n",
       "  </thead>\n",
       "  <tbody>\n",
       "    <tr>\n",
       "      <th>0</th>\n",
       "      <td>羅東店</td>\n",
       "      <td>門市地址:宜蘭縣羅東鎮中山路二段303號</td>\n",
       "    </tr>\n",
       "    <tr>\n",
       "      <th>1</th>\n",
       "      <td>宜蘭店</td>\n",
       "      <td>門市地址:宜蘭市中山路五段176號</td>\n",
       "    </tr>\n",
       "    <tr>\n",
       "      <th>2</th>\n",
       "      <td>義一店</td>\n",
       "      <td>門市地址:基隆市中正區港通里13鄰義一路111號</td>\n",
       "    </tr>\n",
       "    <tr>\n",
       "      <th>3</th>\n",
       "      <td>八德店</td>\n",
       "      <td>門市地址:台北市松山區八德路四段211號</td>\n",
       "    </tr>\n",
       "    <tr>\n",
       "      <th>4</th>\n",
       "      <td>樹林店</td>\n",
       "      <td>門市地址:新北市樹林區中華路391號</td>\n",
       "    </tr>\n",
       "  </tbody>\n",
       "</table>\n",
       "</div>"
      ],
      "text/plain": [
       "  store                   address\n",
       "0   羅東店      門市地址:宜蘭縣羅東鎮中山路二段303號\n",
       "1   宜蘭店         門市地址:宜蘭市中山路五段176號\n",
       "2   義一店  門市地址:基隆市中正區港通里13鄰義一路111號\n",
       "3   八德店      門市地址:台北市松山區八德路四段211號\n",
       "4   樹林店        門市地址:新北市樹林區中華路391號"
      ]
     },
     "execution_count": 14,
     "metadata": {},
     "output_type": "execute_result"
    }
   ],
   "source": [
    "DataFrame = {\n",
    "    \"store\": store,\n",
    "    \"address\": address,\n",
    "}\n",
    "\n",
    "file_name = f\"啄木鳥\"\n",
    "df = pd.DataFrame(DataFrame)\n",
    "df.head()"
   ]
  },
  {
   "cell_type": "markdown",
   "id": "7665c4a5",
   "metadata": {},
   "source": [
    "### 日藥本舖"
   ]
  },
  {
   "cell_type": "code",
   "execution_count": 16,
   "id": "221bd86e",
   "metadata": {
    "scrolled": true
   },
   "outputs": [
    {
     "name": "stdout",
     "output_type": "stream",
     "text": [
      "Crawling: https://webapi.91app.com/webapi/LocationV2/GetLocationListByCity?cityId=2&startIndex=0&maxCount=100&r=null&lang=zh-TW&shopId=41165\n",
      "Crawling: https://webapi.91app.com/webapi/LocationV2/GetLocationListByCity?cityId=3&startIndex=0&maxCount=100&r=null&lang=zh-TW&shopId=41165\n",
      "Crawling: https://webapi.91app.com/webapi/LocationV2/GetLocationListByCity?cityId=4&startIndex=0&maxCount=100&r=null&lang=zh-TW&shopId=41165\n",
      "Take a rest for 6 secs\n",
      "Crawling: https://webapi.91app.com/webapi/LocationV2/GetLocationListByCity?cityId=5&startIndex=0&maxCount=100&r=null&lang=zh-TW&shopId=41165\n",
      "Crawling: https://webapi.91app.com/webapi/LocationV2/GetLocationListByCity?cityId=6&startIndex=0&maxCount=100&r=null&lang=zh-TW&shopId=41165\n",
      "Crawling: https://webapi.91app.com/webapi/LocationV2/GetLocationListByCity?cityId=7&startIndex=0&maxCount=100&r=null&lang=zh-TW&shopId=41165\n",
      "Crawling: https://webapi.91app.com/webapi/LocationV2/GetLocationListByCity?cityId=8&startIndex=0&maxCount=100&r=null&lang=zh-TW&shopId=41165\n",
      "Take a rest for 4 secs\n",
      "Crawling: https://webapi.91app.com/webapi/LocationV2/GetLocationListByCity?cityId=9&startIndex=0&maxCount=100&r=null&lang=zh-TW&shopId=41165\n",
      "Crawling: https://webapi.91app.com/webapi/LocationV2/GetLocationListByCity?cityId=10&startIndex=0&maxCount=100&r=null&lang=zh-TW&shopId=41165\n",
      "Crawling: https://webapi.91app.com/webapi/LocationV2/GetLocationListByCity?cityId=11&startIndex=0&maxCount=100&r=null&lang=zh-TW&shopId=41165\n",
      "Crawling: https://webapi.91app.com/webapi/LocationV2/GetLocationListByCity?cityId=12&startIndex=0&maxCount=100&r=null&lang=zh-TW&shopId=41165\n",
      "Take a rest for 4 secs\n",
      "Crawling: https://webapi.91app.com/webapi/LocationV2/GetLocationListByCity?cityId=14&startIndex=0&maxCount=100&r=null&lang=zh-TW&shopId=41165\n",
      "Crawling: https://webapi.91app.com/webapi/LocationV2/GetLocationListByCity?cityId=15&startIndex=0&maxCount=100&r=null&lang=zh-TW&shopId=41165\n",
      "Crawling: https://webapi.91app.com/webapi/LocationV2/GetLocationListByCity?cityId=16&startIndex=0&maxCount=100&r=null&lang=zh-TW&shopId=41165\n",
      "Crawling: https://webapi.91app.com/webapi/LocationV2/GetLocationListByCity?cityId=18&startIndex=0&maxCount=100&r=null&lang=zh-TW&shopId=41165\n",
      "Take a rest for 6 secs\n",
      "Crawling: https://webapi.91app.com/webapi/LocationV2/GetLocationListByCity?cityId=19&startIndex=0&maxCount=100&r=null&lang=zh-TW&shopId=41165\n"
     ]
    }
   ],
   "source": [
    "count = 1\n",
    "city  = []\n",
    "store = []\n",
    "address = []\n",
    "district  = []\n",
    "longitude = []\n",
    "latitude  = []\n",
    "\n",
    "city_id = [2, 3, 4, 5, 6, 7, 8, 9, 10, 11, 12, 14, 15, 16, 18, 19]\n",
    "\n",
    "for c in city_id:\n",
    "    url = f\"https://webapi.91app.com/webapi/LocationV2/GetLocationListByCity?cityId={c}&startIndex=0&maxCount=100&r=null&lang=zh-TW&shopId=41165\"\n",
    "    print(\"Crawling:\", url)\n",
    "    count +=1 \n",
    "    \n",
    "    if count % 4 == 0:\n",
    "        t = random.randint(4, 6)\n",
    "        print(f\"Take a rest for {t} secs\")\n",
    "        time.sleep(t)\n",
    "        \n",
    "    re = requests.get(url)\n",
    "    for r in re.json()[\"Data\"][\"List\"]:\n",
    "        store.append(r[\"Name\"])\n",
    "        city.append(r[\"CityName\"])\n",
    "        address.append(r[\"Address\"])\n",
    "        district.append(r[\"AreaName\"])\n",
    "        latitude.append(r[\"Latitude\"])\n",
    "        longitude.append(r[\"Longitude\"])"
   ]
  },
  {
   "cell_type": "code",
   "execution_count": 17,
   "id": "bd525caf",
   "metadata": {},
   "outputs": [
    {
     "data": {
      "text/html": [
       "<div>\n",
       "<style scoped>\n",
       "    .dataframe tbody tr th:only-of-type {\n",
       "        vertical-align: middle;\n",
       "    }\n",
       "\n",
       "    .dataframe tbody tr th {\n",
       "        vertical-align: top;\n",
       "    }\n",
       "\n",
       "    .dataframe thead th {\n",
       "        text-align: right;\n",
       "    }\n",
       "</style>\n",
       "<table border=\"1\" class=\"dataframe\">\n",
       "  <thead>\n",
       "    <tr style=\"text-align: right;\">\n",
       "      <th></th>\n",
       "      <th>city</th>\n",
       "      <th>store</th>\n",
       "      <th>address</th>\n",
       "      <th>district</th>\n",
       "      <th>latitude</th>\n",
       "      <th>longitude</th>\n",
       "    </tr>\n",
       "  </thead>\n",
       "  <tbody>\n",
       "    <tr>\n",
       "      <th>0</th>\n",
       "      <td>台北市</td>\n",
       "      <td>北投光明門市</td>\n",
       "      <td>台北市北投區光明路220號1樓</td>\n",
       "      <td>北投區</td>\n",
       "      <td>25.1362672</td>\n",
       "      <td>121.5044694</td>\n",
       "    </tr>\n",
       "    <tr>\n",
       "      <th>1</th>\n",
       "      <td>台北市</td>\n",
       "      <td>天母家樂福門市</td>\n",
       "      <td>台北市士林區德行西路47號1樓</td>\n",
       "      <td>士林區</td>\n",
       "      <td>25.105749</td>\n",
       "      <td>121.52274</td>\n",
       "    </tr>\n",
       "    <tr>\n",
       "      <th>2</th>\n",
       "      <td>台北市</td>\n",
       "      <td>士林華齡門市</td>\n",
       "      <td>台北市士林區華齡街175號2樓</td>\n",
       "      <td>士林區</td>\n",
       "      <td>25.0871324</td>\n",
       "      <td>121.5192471</td>\n",
       "    </tr>\n",
       "    <tr>\n",
       "      <th>3</th>\n",
       "      <td>台北市</td>\n",
       "      <td>忠孝復興門市</td>\n",
       "      <td>台北市大安區大安路一段77號 東區地下街7-1,7-2號店舖</td>\n",
       "      <td>大安區</td>\n",
       "      <td>25.0419631</td>\n",
       "      <td>121.5463538</td>\n",
       "    </tr>\n",
       "    <tr>\n",
       "      <th>4</th>\n",
       "      <td>台北市</td>\n",
       "      <td>日藥本舖總部</td>\n",
       "      <td>台北市大同區南京西路46號2</td>\n",
       "      <td>大同區</td>\n",
       "      <td>25.0527343</td>\n",
       "      <td>121.5192527</td>\n",
       "    </tr>\n",
       "  </tbody>\n",
       "</table>\n",
       "</div>"
      ],
      "text/plain": [
       "  city    store                         address district    latitude  \\\n",
       "0  台北市   北投光明門市                 台北市北投區光明路220號1樓      北投區  25.1362672   \n",
       "1  台北市  天母家樂福門市                 台北市士林區德行西路47號1樓      士林區   25.105749   \n",
       "2  台北市   士林華齡門市                 台北市士林區華齡街175號2樓      士林區  25.0871324   \n",
       "3  台北市   忠孝復興門市  台北市大安區大安路一段77號 東區地下街7-1,7-2號店舖      大安區  25.0419631   \n",
       "4  台北市   日藥本舖總部                  台北市大同區南京西路46號2      大同區  25.0527343   \n",
       "\n",
       "     longitude  \n",
       "0  121.5044694  \n",
       "1    121.52274  \n",
       "2  121.5192471  \n",
       "3  121.5463538  \n",
       "4  121.5192527  "
      ]
     },
     "execution_count": 17,
     "metadata": {},
     "output_type": "execute_result"
    }
   ],
   "source": [
    "DataFrame = {\n",
    "    \"city\" : city,\n",
    "    \"store\": store,\n",
    "    \"address\": address,\n",
    "    \"district\" : district,\n",
    "    \"latitude\" : latitude,\n",
    "    \"longitude\": longitude,\n",
    "}\n",
    "\n",
    "file_name = f\"日藥本舖\"\n",
    "df = pd.DataFrame(DataFrame)\n",
    "df.head()"
   ]
  },
  {
   "cell_type": "markdown",
   "id": "eab02a9d",
   "metadata": {},
   "source": [
    "### 楓康超市"
   ]
  },
  {
   "cell_type": "code",
   "execution_count": 20,
   "id": "e22bc857",
   "metadata": {},
   "outputs": [],
   "source": [
    "city = [5, 6, 9, 11, 12]\n",
    "area = [[300], [302],\n",
    "        [402, 403, 404, 406, 407, 408, 411, 412, 413, 414, 420, 421, 423, 427, 428, 433, 436],\n",
    "        [500, 506, 508, 510, 512, 514, 526],\n",
    "        [540, 542, 545, 553, 557]]\n",
    "\n",
    "place = {}\n",
    "\n",
    "for i in range(len(city)):\n",
    "    place[city[i]] = area[i]"
   ]
  },
  {
   "cell_type": "code",
   "execution_count": 22,
   "id": "bafdb0cc",
   "metadata": {
    "scrolled": true
   },
   "outputs": [
    {
     "name": "stdout",
     "output_type": "stream",
     "text": [
      "Crawling: https://www.supermarket.com.tw/News4_List.html?group_id_chained=5&group_id=300\n",
      "Crawling: https://www.supermarket.com.tw/News4_List.html?group_id_chained=6&group_id=302\n",
      "Crawling: https://www.supermarket.com.tw/News4_List.html?group_id_chained=9&group_id=402\n",
      "Take a rest for 5 secs\n",
      "Crawling: https://www.supermarket.com.tw/News4_List.html?group_id_chained=9&group_id=403\n",
      "Crawling: https://www.supermarket.com.tw/News4_List.html?group_id_chained=9&group_id=404\n",
      "Crawling: https://www.supermarket.com.tw/News4_List.html?group_id_chained=9&group_id=406\n",
      "Crawling: https://www.supermarket.com.tw/News4_List.html?group_id_chained=9&group_id=407\n",
      "Take a rest for 4 secs\n",
      "Crawling: https://www.supermarket.com.tw/News4_List.html?group_id_chained=9&group_id=408\n",
      "Crawling: https://www.supermarket.com.tw/News4_List.html?group_id_chained=9&group_id=411\n",
      "Crawling: https://www.supermarket.com.tw/News4_List.html?group_id_chained=9&group_id=412\n",
      "Crawling: https://www.supermarket.com.tw/News4_List.html?group_id_chained=9&group_id=413\n",
      "Take a rest for 4 secs\n",
      "Crawling: https://www.supermarket.com.tw/News4_List.html?group_id_chained=9&group_id=414\n",
      "Crawling: https://www.supermarket.com.tw/News4_List.html?group_id_chained=9&group_id=420\n",
      "Crawling: https://www.supermarket.com.tw/News4_List.html?group_id_chained=9&group_id=421\n",
      "Crawling: https://www.supermarket.com.tw/News4_List.html?group_id_chained=9&group_id=423\n",
      "Take a rest for 6 secs\n",
      "Crawling: https://www.supermarket.com.tw/News4_List.html?group_id_chained=9&group_id=427\n",
      "Crawling: https://www.supermarket.com.tw/News4_List.html?group_id_chained=9&group_id=428\n",
      "Crawling: https://www.supermarket.com.tw/News4_List.html?group_id_chained=9&group_id=433\n",
      "Crawling: https://www.supermarket.com.tw/News4_List.html?group_id_chained=9&group_id=436\n",
      "Take a rest for 5 secs\n",
      "Crawling: https://www.supermarket.com.tw/News4_List.html?group_id_chained=11&group_id=500\n",
      "Crawling: https://www.supermarket.com.tw/News4_List.html?group_id_chained=11&group_id=506\n",
      "Crawling: https://www.supermarket.com.tw/News4_List.html?group_id_chained=11&group_id=508\n",
      "Crawling: https://www.supermarket.com.tw/News4_List.html?group_id_chained=11&group_id=510\n",
      "Take a rest for 4 secs\n",
      "Crawling: https://www.supermarket.com.tw/News4_List.html?group_id_chained=11&group_id=512\n",
      "Crawling: https://www.supermarket.com.tw/News4_List.html?group_id_chained=11&group_id=514\n",
      "Crawling: https://www.supermarket.com.tw/News4_List.html?group_id_chained=11&group_id=526\n",
      "Crawling: https://www.supermarket.com.tw/News4_List.html?group_id_chained=12&group_id=540\n",
      "Take a rest for 4 secs\n",
      "Crawling: https://www.supermarket.com.tw/News4_List.html?group_id_chained=12&group_id=542\n",
      "Crawling: https://www.supermarket.com.tw/News4_List.html?group_id_chained=12&group_id=545\n",
      "Crawling: https://www.supermarket.com.tw/News4_List.html?group_id_chained=12&group_id=553\n",
      "Crawling: https://www.supermarket.com.tw/News4_List.html?group_id_chained=12&group_id=557\n",
      "Take a rest for 4 secs\n"
     ]
    }
   ],
   "source": [
    "count = 1\n",
    "store = []\n",
    "address = []\n",
    "\n",
    "for i in place:\n",
    "    for j in place[i]:\n",
    "        url = f\"https://www.supermarket.com.tw/News4_List.html?group_id_chained={i}&group_id={j}\"\n",
    "        soup = crawler(url)\n",
    "        \n",
    "        count +=1 \n",
    "        if count % 4 == 0:\n",
    "            t = random.randint(4, 6)\n",
    "            print(f\"Take a rest for {t} secs\")\n",
    "            time.sleep(t)\n",
    "        \n",
    "        for s in soup.find_all(\"div\", {\"class\": \"t12\"}):\n",
    "            store.append(s.find(\"h4\").text.replace(\"【\", \"\").replace(\"】\", \"\").replace(\" \", \"\"))\n",
    "            address.append(s.find(\"span\").text.replace(\"地　　址：\", \"\"))"
   ]
  },
  {
   "cell_type": "code",
   "execution_count": 23,
   "id": "21912759",
   "metadata": {},
   "outputs": [
    {
     "data": {
      "text/html": [
       "<div>\n",
       "<style scoped>\n",
       "    .dataframe tbody tr th:only-of-type {\n",
       "        vertical-align: middle;\n",
       "    }\n",
       "\n",
       "    .dataframe tbody tr th {\n",
       "        vertical-align: top;\n",
       "    }\n",
       "\n",
       "    .dataframe thead th {\n",
       "        text-align: right;\n",
       "    }\n",
       "</style>\n",
       "<table border=\"1\" class=\"dataframe\">\n",
       "  <thead>\n",
       "    <tr style=\"text-align: right;\">\n",
       "      <th></th>\n",
       "      <th>store</th>\n",
       "      <th>address</th>\n",
       "    </tr>\n",
       "  </thead>\n",
       "  <tbody>\n",
       "    <tr>\n",
       "      <th>0</th>\n",
       "      <td>經國店</td>\n",
       "      <td>新竹市香山區經國路三段33號</td>\n",
       "    </tr>\n",
       "    <tr>\n",
       "      <th>1</th>\n",
       "      <td>光明店</td>\n",
       "      <td>新竹縣竹北市中興里光明六路東二段130號</td>\n",
       "    </tr>\n",
       "    <tr>\n",
       "      <th>2</th>\n",
       "      <td>大慶店</td>\n",
       "      <td>台中市南區復興路1段170號</td>\n",
       "    </tr>\n",
       "    <tr>\n",
       "      <th>3</th>\n",
       "      <td>東興店</td>\n",
       "      <td>台中市西區東興路3段2號</td>\n",
       "    </tr>\n",
       "    <tr>\n",
       "      <th>4</th>\n",
       "      <td>健行店</td>\n",
       "      <td>台中市北區民權路480號</td>\n",
       "    </tr>\n",
       "  </tbody>\n",
       "</table>\n",
       "</div>"
      ],
      "text/plain": [
       "  store               address\n",
       "0   經國店        新竹市香山區經國路三段33號\n",
       "1   光明店  新竹縣竹北市中興里光明六路東二段130號\n",
       "2   大慶店        台中市南區復興路1段170號\n",
       "3   東興店          台中市西區東興路3段2號\n",
       "4   健行店          台中市北區民權路480號"
      ]
     },
     "execution_count": 23,
     "metadata": {},
     "output_type": "execute_result"
    }
   ],
   "source": [
    "DataFrame = {\n",
    "    \"store\": store,\n",
    "    \"address\": address,\n",
    "}\n",
    "\n",
    "file_name = f\"楓康超市\"\n",
    "df = pd.DataFrame(DataFrame)\n",
    "df.head()"
   ]
  },
  {
   "cell_type": "markdown",
   "id": "6a384b57",
   "metadata": {},
   "source": [
    "### 喜互惠"
   ]
  },
  {
   "cell_type": "code",
   "execution_count": 24,
   "id": "2bbcc1f5",
   "metadata": {},
   "outputs": [
    {
     "name": "stdout",
     "output_type": "stream",
     "text": [
      "Crawling: https://www.surewell.com.tw/ec99/rwd1451/category.asp?category_id=23\n"
     ]
    }
   ],
   "source": [
    "store = []\n",
    "address = []\n",
    "\n",
    "url = \"https://www.surewell.com.tw/ec99/rwd1451/category.asp?category_id=23\"\n",
    "soup = crawler(url)\n",
    "\n",
    "for s in soup.find_all(\"div\", {\"class\": \"col-md-6 col-xs-12\"}):\n",
    "    for s1 in s.find_all(\"h4\"):\n",
    "        if \"店\" in s1.text:\n",
    "            store.append(s1.text)\n",
    "    for s2 in s.find_all(\"p\"):\n",
    "        if \"地址\" in s2.text:\n",
    "            address.append(s2.text.replace(\"地址：\", \"\"))"
   ]
  },
  {
   "cell_type": "code",
   "execution_count": 25,
   "id": "dd937f19",
   "metadata": {},
   "outputs": [
    {
     "data": {
      "text/html": [
       "<div>\n",
       "<style scoped>\n",
       "    .dataframe tbody tr th:only-of-type {\n",
       "        vertical-align: middle;\n",
       "    }\n",
       "\n",
       "    .dataframe tbody tr th {\n",
       "        vertical-align: top;\n",
       "    }\n",
       "\n",
       "    .dataframe thead th {\n",
       "        text-align: right;\n",
       "    }\n",
       "</style>\n",
       "<table border=\"1\" class=\"dataframe\">\n",
       "  <thead>\n",
       "    <tr style=\"text-align: right;\">\n",
       "      <th></th>\n",
       "      <th>store</th>\n",
       "      <th>address</th>\n",
       "    </tr>\n",
       "  </thead>\n",
       "  <tbody>\n",
       "    <tr>\n",
       "      <th>0</th>\n",
       "      <td>頭城店</td>\n",
       "      <td>宜蘭縣頭城鎮開蘭路339號</td>\n",
       "    </tr>\n",
       "    <tr>\n",
       "      <th>1</th>\n",
       "      <td>礁溪店(24H)</td>\n",
       "      <td>宜蘭縣礁溪鄉礁溪路五段38號</td>\n",
       "    </tr>\n",
       "    <tr>\n",
       "      <th>2</th>\n",
       "      <td>和平店</td>\n",
       "      <td>宜蘭縣礁溪鄉和平路120號</td>\n",
       "    </tr>\n",
       "    <tr>\n",
       "      <th>3</th>\n",
       "      <td>吳沙店</td>\n",
       "      <td>宜蘭縣宜蘭市中山路五段191號</td>\n",
       "    </tr>\n",
       "    <tr>\n",
       "      <th>4</th>\n",
       "      <td>慈安店</td>\n",
       "      <td>宜蘭縣宜蘭市林森路225號</td>\n",
       "    </tr>\n",
       "  </tbody>\n",
       "</table>\n",
       "</div>"
      ],
      "text/plain": [
       "      store          address\n",
       "0       頭城店    宜蘭縣頭城鎮開蘭路339號\n",
       "1  礁溪店(24H)   宜蘭縣礁溪鄉礁溪路五段38號\n",
       "2       和平店    宜蘭縣礁溪鄉和平路120號\n",
       "3       吳沙店  宜蘭縣宜蘭市中山路五段191號\n",
       "4       慈安店    宜蘭縣宜蘭市林森路225號"
      ]
     },
     "execution_count": 25,
     "metadata": {},
     "output_type": "execute_result"
    }
   ],
   "source": [
    "DataFrame = {\n",
    "    \"store\": store,\n",
    "    \"address\": address[1:],\n",
    "}\n",
    "\n",
    "file_name = f\"喜互惠\"\n",
    "df = pd.DataFrame(DataFrame)\n",
    "df.head()"
   ]
  },
  {
   "cell_type": "markdown",
   "id": "2752d86b",
   "metadata": {},
   "source": [
    "### 101文具天堂"
   ]
  },
  {
   "cell_type": "code",
   "execution_count": 28,
   "id": "6e1cf660",
   "metadata": {
    "scrolled": true
   },
   "outputs": [
    {
     "name": "stdout",
     "output_type": "stream",
     "text": [
      "Crawling: http://www.101sp.com.tw/web/store.php?city_id=1\n",
      "Crawling: http://www.101sp.com.tw/web/store.php?city_id=2\n",
      "Crawling: http://www.101sp.com.tw/web/store.php?city_id=3\n",
      "Crawling: http://www.101sp.com.tw/web/store.php?city_id=4\n",
      "Crawling: http://www.101sp.com.tw/web/store.php?city_id=5\n",
      "Crawling: http://www.101sp.com.tw/web/store.php?city_id=6\n",
      "Crawling: http://www.101sp.com.tw/web/store.php?city_id=7\n",
      "Crawling: http://www.101sp.com.tw/web/store.php?city_id=8\n",
      "Crawling: http://www.101sp.com.tw/web/store.php?city_id=9\n",
      "Crawling: http://www.101sp.com.tw/web/store.php?city_id=10\n",
      "Crawling: http://www.101sp.com.tw/web/store.php?city_id=11\n",
      "Crawling: http://www.101sp.com.tw/web/store.php?city_id=12\n",
      "Crawling: http://www.101sp.com.tw/web/store.php?city_id=13\n",
      "Crawling: http://www.101sp.com.tw/web/store.php?city_id=14\n",
      "Crawling: http://www.101sp.com.tw/web/store.php?city_id=15\n",
      "Crawling: http://www.101sp.com.tw/web/store.php?city_id=16\n",
      "Crawling: http://www.101sp.com.tw/web/store.php?city_id=17\n",
      "Crawling: http://www.101sp.com.tw/web/store.php?city_id=18\n",
      "Crawling: http://www.101sp.com.tw/web/store.php?city_id=19\n",
      "Crawling: http://www.101sp.com.tw/web/store.php?city_id=20\n",
      "Crawling: http://www.101sp.com.tw/web/store.php?city_id=21\n",
      "Crawling: http://www.101sp.com.tw/web/store.php?city_id=22\n"
     ]
    }
   ],
   "source": [
    "store = []\n",
    "address = []\n",
    "\n",
    "for i in range(1, 23):\n",
    "    url = f\"http://www.101sp.com.tw/web/store.php?city_id={i}\"\n",
    "    soup = crawler(url)\n",
    "    \n",
    "    for s in soup.find_all(\"span\"):\n",
    "        store.append(s.text)\n",
    "    for s in soup.find_all(\"div\", {\"class\": \"btn\"}):\n",
    "        for s1 in s.find_previous(\"div\"):\n",
    "            if \"號\" in s1:\n",
    "                address.append(s1)"
   ]
  },
  {
   "cell_type": "code",
   "execution_count": 29,
   "id": "0675257b",
   "metadata": {},
   "outputs": [
    {
     "data": {
      "text/html": [
       "<div>\n",
       "<style scoped>\n",
       "    .dataframe tbody tr th:only-of-type {\n",
       "        vertical-align: middle;\n",
       "    }\n",
       "\n",
       "    .dataframe tbody tr th {\n",
       "        vertical-align: top;\n",
       "    }\n",
       "\n",
       "    .dataframe thead th {\n",
       "        text-align: right;\n",
       "    }\n",
       "</style>\n",
       "<table border=\"1\" class=\"dataframe\">\n",
       "  <thead>\n",
       "    <tr style=\"text-align: right;\">\n",
       "      <th></th>\n",
       "      <th>store</th>\n",
       "      <th>address</th>\n",
       "    </tr>\n",
       "  </thead>\n",
       "  <tbody>\n",
       "    <tr>\n",
       "      <th>0</th>\n",
       "      <td>松山店</td>\n",
       "      <td>台北市松山區光復北路11巷99號B1</td>\n",
       "    </tr>\n",
       "    <tr>\n",
       "      <th>1</th>\n",
       "      <td>台北民生店</td>\n",
       "      <td>台北市松山區民生東路五段92號1樓</td>\n",
       "    </tr>\n",
       "    <tr>\n",
       "      <th>2</th>\n",
       "      <td>三重店</td>\n",
       "      <td>新北市三重區三和路3段180號</td>\n",
       "    </tr>\n",
       "    <tr>\n",
       "      <th>3</th>\n",
       "      <td>板橋店</td>\n",
       "      <td>新北市板橋區重慶路141號</td>\n",
       "    </tr>\n",
       "    <tr>\n",
       "      <th>4</th>\n",
       "      <td>北大店</td>\n",
       "      <td>新北市樹林區學成路559號</td>\n",
       "    </tr>\n",
       "  </tbody>\n",
       "</table>\n",
       "</div>"
      ],
      "text/plain": [
       "   store             address\n",
       "0    松山店  台北市松山區光復北路11巷99號B1\n",
       "1  台北民生店   台北市松山區民生東路五段92號1樓\n",
       "2    三重店     新北市三重區三和路3段180號\n",
       "3    板橋店       新北市板橋區重慶路141號\n",
       "4    北大店       新北市樹林區學成路559號"
      ]
     },
     "execution_count": 29,
     "metadata": {},
     "output_type": "execute_result"
    }
   ],
   "source": [
    "DataFrame = {\n",
    "    \"store\": store,\n",
    "    \"address\": address,\n",
    "}\n",
    "\n",
    "file_name = f\"文具天堂\"\n",
    "df = pd.DataFrame(DataFrame)\n",
    "df.head()"
   ]
  },
  {
   "cell_type": "markdown",
   "id": "cd01b85c",
   "metadata": {},
   "source": [
    "### 九乘九"
   ]
  },
  {
   "cell_type": "code",
   "execution_count": 30,
   "id": "ee461c9c",
   "metadata": {},
   "outputs": [
    {
     "name": "stdout",
     "output_type": "stream",
     "text": [
      "Crawling: https://9x9stationery.com.tw/shops?page=1\n",
      "Crawling: https://9x9stationery.com.tw/shops?page=2\n",
      "Crawling: https://9x9stationery.com.tw/shops?page=3\n"
     ]
    }
   ],
   "source": [
    "store = []\n",
    "address = []\n",
    "\n",
    "for i in range(1, 4):\n",
    "    url = f\"https://9x9stationery.com.tw/shops?page={i}\"\n",
    "    soup = crawler(url)\n",
    "    \n",
    "    for s in soup.find_all(\"span\", {\"class\": \"font-26\"}):\n",
    "        store.append(s.text)\n",
    "    for s in soup.find_all(\"span\", {\"class\": \"font-16\"}):\n",
    "        if \"地址\" in s.text:\n",
    "            address.append(s.text.split(\"：\")[1])"
   ]
  },
  {
   "cell_type": "code",
   "execution_count": 31,
   "id": "c41fcb5d",
   "metadata": {},
   "outputs": [
    {
     "data": {
      "text/html": [
       "<div>\n",
       "<style scoped>\n",
       "    .dataframe tbody tr th:only-of-type {\n",
       "        vertical-align: middle;\n",
       "    }\n",
       "\n",
       "    .dataframe tbody tr th {\n",
       "        vertical-align: top;\n",
       "    }\n",
       "\n",
       "    .dataframe thead th {\n",
       "        text-align: right;\n",
       "    }\n",
       "</style>\n",
       "<table border=\"1\" class=\"dataframe\">\n",
       "  <thead>\n",
       "    <tr style=\"text-align: right;\">\n",
       "      <th></th>\n",
       "      <th>store</th>\n",
       "      <th>address</th>\n",
       "    </tr>\n",
       "  </thead>\n",
       "  <tbody>\n",
       "    <tr>\n",
       "      <th>0</th>\n",
       "      <td>台北寧夏店</td>\n",
       "      <td>103臺北市大同區民生西路239號</td>\n",
       "    </tr>\n",
       "    <tr>\n",
       "      <th>1</th>\n",
       "      <td>永和頂溪店</td>\n",
       "      <td>新北市永和區永和路二段62號</td>\n",
       "    </tr>\n",
       "    <tr>\n",
       "      <th>2</th>\n",
       "      <td>板橋中山店</td>\n",
       "      <td>新北市板橋區中山路二段261號</td>\n",
       "    </tr>\n",
       "    <tr>\n",
       "      <th>3</th>\n",
       "      <td>永和中正店</td>\n",
       "      <td>新北市永和區中正路141號</td>\n",
       "    </tr>\n",
       "    <tr>\n",
       "      <th>4</th>\n",
       "      <td>新莊中平店</td>\n",
       "      <td>新北市新莊區中平路82巷27號2樓</td>\n",
       "    </tr>\n",
       "  </tbody>\n",
       "</table>\n",
       "</div>"
      ],
      "text/plain": [
       "   store            address\n",
       "0  台北寧夏店  103臺北市大同區民生西路239號\n",
       "1  永和頂溪店     新北市永和區永和路二段62號\n",
       "2  板橋中山店    新北市板橋區中山路二段261號\n",
       "3  永和中正店      新北市永和區中正路141號\n",
       "4  新莊中平店  新北市新莊區中平路82巷27號2樓"
      ]
     },
     "execution_count": 31,
     "metadata": {},
     "output_type": "execute_result"
    }
   ],
   "source": [
    "DataFrame = {\n",
    "    \"store\": store,\n",
    "    \"address\": address,\n",
    "}\n",
    "\n",
    "file_name = f\"九乘九\"\n",
    "df = pd.DataFrame(DataFrame)\n",
    "df.head()"
   ]
  },
  {
   "cell_type": "markdown",
   "id": "c654cfd8",
   "metadata": {},
   "source": [
    "### 金玉堂"
   ]
  },
  {
   "cell_type": "code",
   "execution_count": 32,
   "id": "f620b74d",
   "metadata": {},
   "outputs": [
    {
     "name": "stdout",
     "output_type": "stream",
     "text": [
      "Crawling: http://www.jytnet.com.tw/ap/store.aspx?filter=2b99c884-8386-400f-bf75-11c288ecfbcb&page1=1\n",
      "Crawling: http://www.jytnet.com.tw/ap/store.aspx?filter=2b99c884-8386-400f-bf75-11c288ecfbcb&page1=2\n",
      "Crawling: http://www.jytnet.com.tw/ap/store.aspx?filter=2b99c884-8386-400f-bf75-11c288ecfbcb&page1=3\n",
      "Crawling: http://www.jytnet.com.tw/ap/store.aspx?filter=2b99c884-8386-400f-bf75-11c288ecfbcb&page1=4\n",
      "Crawling: http://www.jytnet.com.tw/ap/store.aspx?filter=2b99c884-8386-400f-bf75-11c288ecfbcb&page1=5\n",
      "Crawling: http://www.jytnet.com.tw/ap/store.aspx?filter=2b99c884-8386-400f-bf75-11c288ecfbcb&page1=6\n",
      "Crawling: http://www.jytnet.com.tw/ap/store.aspx?filter=2b99c884-8386-400f-bf75-11c288ecfbcb&page1=7\n",
      "Crawling: http://www.jytnet.com.tw/ap/store.aspx?filter=2b99c884-8386-400f-bf75-11c288ecfbcb&page1=8\n",
      "Crawling: http://www.jytnet.com.tw/ap/store.aspx?filter=2b99c884-8386-400f-bf75-11c288ecfbcb&page1=9\n",
      "Crawling: http://www.jytnet.com.tw/ap/store.aspx?filter=2b99c884-8386-400f-bf75-11c288ecfbcb&page1=10\n",
      "Crawling: http://www.jytnet.com.tw/ap/store.aspx?filter=2b99c884-8386-400f-bf75-11c288ecfbcb&page1=11\n",
      "Crawling: http://www.jytnet.com.tw/ap/store.aspx?filter=2b99c884-8386-400f-bf75-11c288ecfbcb&page1=12\n",
      "Crawling: http://www.jytnet.com.tw/ap/store.aspx?filter=2b99c884-8386-400f-bf75-11c288ecfbcb&page1=13\n",
      "Crawling: http://www.jytnet.com.tw/ap/store.aspx?filter=2b99c884-8386-400f-bf75-11c288ecfbcb&page1=14\n",
      "Crawling: http://www.jytnet.com.tw/ap/store.aspx?filter=2b99c884-8386-400f-bf75-11c288ecfbcb&page1=15\n"
     ]
    }
   ],
   "source": [
    "store = []\n",
    "address = []\n",
    "\n",
    "for i in range(1, 16):\n",
    "    soup = crawler(f\"http://www.jytnet.com.tw/ap/store.aspx?filter=2b99c884-8386-400f-bf75-11c288ecfbcb&page1={i}\")\n",
    "\n",
    "    for s in soup.find_all(\"span\", {\"class\": \"stores_list_item_title\"}):\n",
    "        store.append(s.find(\"p\").text)\n",
    "    for s in soup.find_all(\"span\", {\"class\": \"stores_list_item_info_dd\"}):\n",
    "        if \"號\" in s.text:\n",
    "            address.append(s.text)"
   ]
  },
  {
   "cell_type": "code",
   "execution_count": 33,
   "id": "898e23c5",
   "metadata": {},
   "outputs": [
    {
     "data": {
      "text/html": [
       "<div>\n",
       "<style scoped>\n",
       "    .dataframe tbody tr th:only-of-type {\n",
       "        vertical-align: middle;\n",
       "    }\n",
       "\n",
       "    .dataframe tbody tr th {\n",
       "        vertical-align: top;\n",
       "    }\n",
       "\n",
       "    .dataframe thead th {\n",
       "        text-align: right;\n",
       "    }\n",
       "</style>\n",
       "<table border=\"1\" class=\"dataframe\">\n",
       "  <thead>\n",
       "    <tr style=\"text-align: right;\">\n",
       "      <th></th>\n",
       "      <th>store</th>\n",
       "      <th>address</th>\n",
       "    </tr>\n",
       "  </thead>\n",
       "  <tbody>\n",
       "    <tr>\n",
       "      <th>0</th>\n",
       "      <td>西門町店</td>\n",
       "      <td>台北市萬華區長沙街二段107號</td>\n",
       "    </tr>\n",
       "    <tr>\n",
       "      <th>1</th>\n",
       "      <td>市府店(提供熊貓外送)</td>\n",
       "      <td>台北市信義區基隆路一段163號B1</td>\n",
       "    </tr>\n",
       "    <tr>\n",
       "      <th>2</th>\n",
       "      <td>葫洲店(提供熊貓外送)</td>\n",
       "      <td>台北市內湖區民權東路六段296巷20號2樓</td>\n",
       "    </tr>\n",
       "    <tr>\n",
       "      <th>3</th>\n",
       "      <td>南港店</td>\n",
       "      <td>台北市南港區南港路二段20巷5號B1</td>\n",
       "    </tr>\n",
       "    <tr>\n",
       "      <th>4</th>\n",
       "      <td>後山埤店</td>\n",
       "      <td>台北市南港區中坡南路3號B1</td>\n",
       "    </tr>\n",
       "  </tbody>\n",
       "</table>\n",
       "</div>"
      ],
      "text/plain": [
       "         store                address\n",
       "0         西門町店       台北市萬華區長沙街二段107號 \n",
       "1  市府店(提供熊貓外送)      台北市信義區基隆路一段163號B1\n",
       "2  葫洲店(提供熊貓外送)  台北市內湖區民權東路六段296巷20號2樓\n",
       "3          南港店     台北市南港區南港路二段20巷5號B1\n",
       "4         後山埤店         台北市南港區中坡南路3號B1"
      ]
     },
     "execution_count": 33,
     "metadata": {},
     "output_type": "execute_result"
    }
   ],
   "source": [
    "DataFrame = {\n",
    "    \"store\": store,\n",
    "    \"address\": address,\n",
    "}\n",
    "\n",
    "file_name = f\"金玉堂\"\n",
    "df = pd.DataFrame(DataFrame)\n",
    "df.head()"
   ]
  },
  {
   "cell_type": "markdown",
   "id": "79defe0b",
   "metadata": {},
   "source": [
    "### 傑昇通信"
   ]
  },
  {
   "cell_type": "code",
   "execution_count": 34,
   "id": "128c76ac",
   "metadata": {},
   "outputs": [
    {
     "name": "stdout",
     "output_type": "stream",
     "text": [
      "Crawling: https://www.jyes.com.tw/store.php?cid=7\n",
      "Crawling: https://www.jyes.com.tw/store.php?cid=8\n",
      "Crawling: https://www.jyes.com.tw/store.php?cid=9\n",
      "Crawling: https://www.jyes.com.tw/store.php?cid=11\n",
      "Crawling: https://www.jyes.com.tw/store.php?cid=12\n",
      "Crawling: https://www.jyes.com.tw/store.php?cid=13\n",
      "Crawling: https://www.jyes.com.tw/store.php?cid=14\n",
      "Crawling: https://www.jyes.com.tw/store.php?cid=15\n",
      "Crawling: https://www.jyes.com.tw/store.php?cid=16\n",
      "Crawling: https://www.jyes.com.tw/store.php?cid=17\n",
      "Crawling: https://www.jyes.com.tw/store.php?cid=18\n",
      "Crawling: https://www.jyes.com.tw/store.php?cid=19\n",
      "Crawling: https://www.jyes.com.tw/store.php?cid=21\n",
      "Crawling: https://www.jyes.com.tw/store.php?cid=22\n",
      "Crawling: https://www.jyes.com.tw/store.php?cid=23\n"
     ]
    }
   ],
   "source": [
    "store = []\n",
    "address = []\n",
    "city = [7, 8, 9, 11, 12, 13, 14, 15, 16, 17, 18, 19, 21, 22, 23]\n",
    "\n",
    "for c in city:\n",
    "    url = f\"https://www.jyes.com.tw/store.php?cid={c}\"\n",
    "    \n",
    "    re = requests.get(url)\n",
    "    print(f\"Crawling:\", url)\n",
    "    \n",
    "    soup = BeautifulSoup(re.text, \"lxml\")\n",
    "    \n",
    "    for s1 in soup.find_all(\"h2\", {\"class\": \"title\"}):\n",
    "        store.append(s1.text.replace(\" \", \"\"))\n",
    "    for s2 in soup.find_all(\"h3\"):\n",
    "        if \"地址\" in s2.text:\n",
    "            address.append(s2.text.split(\"：\")[1])"
   ]
  },
  {
   "cell_type": "code",
   "execution_count": 35,
   "id": "b23fee9b",
   "metadata": {},
   "outputs": [
    {
     "data": {
      "text/html": [
       "<div>\n",
       "<style scoped>\n",
       "    .dataframe tbody tr th:only-of-type {\n",
       "        vertical-align: middle;\n",
       "    }\n",
       "\n",
       "    .dataframe tbody tr th {\n",
       "        vertical-align: top;\n",
       "    }\n",
       "\n",
       "    .dataframe thead th {\n",
       "        text-align: right;\n",
       "    }\n",
       "</style>\n",
       "<table border=\"1\" class=\"dataframe\">\n",
       "  <thead>\n",
       "    <tr style=\"text-align: right;\">\n",
       "      <th></th>\n",
       "      <th>store</th>\n",
       "      <th>address</th>\n",
       "    </tr>\n",
       "  </thead>\n",
       "  <tbody>\n",
       "    <tr>\n",
       "      <th>0</th>\n",
       "      <td>萬華西園店</td>\n",
       "      <td>台北市萬華區寶興街46號</td>\n",
       "    </tr>\n",
       "    <tr>\n",
       "      <th>1</th>\n",
       "      <td>萬華萬大店</td>\n",
       "      <td>台北市萬華區萬大路481號</td>\n",
       "    </tr>\n",
       "    <tr>\n",
       "      <th>2</th>\n",
       "      <td>台北重慶店</td>\n",
       "      <td>台北市大同區重慶北路三段263號</td>\n",
       "    </tr>\n",
       "    <tr>\n",
       "      <th>3</th>\n",
       "      <td>台北延平店</td>\n",
       "      <td>台北市大同區延平北路二段124號</td>\n",
       "    </tr>\n",
       "    <tr>\n",
       "      <th>4</th>\n",
       "      <td>台北社子店</td>\n",
       "      <td>台北市士林區延平北路六段125號之一</td>\n",
       "    </tr>\n",
       "  </tbody>\n",
       "</table>\n",
       "</div>"
      ],
      "text/plain": [
       "   store             address\n",
       "0  萬華西園店        台北市萬華區寶興街46號\n",
       "1  萬華萬大店       台北市萬華區萬大路481號\n",
       "2  台北重慶店    台北市大同區重慶北路三段263號\n",
       "3  台北延平店    台北市大同區延平北路二段124號\n",
       "4  台北社子店  台北市士林區延平北路六段125號之一"
      ]
     },
     "execution_count": 35,
     "metadata": {},
     "output_type": "execute_result"
    }
   ],
   "source": [
    "DataFrame = {\n",
    "    \"store\": store,\n",
    "    \"address\": address,\n",
    "}\n",
    "\n",
    "file_name = f\"傑昇通信\"\n",
    "df = pd.DataFrame(DataFrame)\n",
    "df.head()"
   ]
  },
  {
   "cell_type": "markdown",
   "id": "c06a1146",
   "metadata": {},
   "source": [
    "### 地標網通"
   ]
  },
  {
   "cell_type": "code",
   "execution_count": 37,
   "id": "0bf4785a",
   "metadata": {},
   "outputs": [],
   "source": [
    "store = []\n",
    "address = []\n",
    "\n",
    "url = \"https://www.landtop.com.tw/stores\"\n",
    "\n",
    "re = requests.get(url)\n",
    "soup = BeautifulSoup(re.text, \"lxml\")\n",
    "\n",
    "for s in soup.find_all(\"div\", {\"class\": \"store-info\"}):\n",
    "    store.append(s.text.split(\"服務電話\")[0])\n",
    "for s in soup.find_all(\"div\", {\"class\": \"address\"}):\n",
    "    address.append(s.text.split(\"：\")[1])"
   ]
  },
  {
   "cell_type": "code",
   "execution_count": 38,
   "id": "18fe8d96",
   "metadata": {},
   "outputs": [
    {
     "data": {
      "text/html": [
       "<div>\n",
       "<style scoped>\n",
       "    .dataframe tbody tr th:only-of-type {\n",
       "        vertical-align: middle;\n",
       "    }\n",
       "\n",
       "    .dataframe tbody tr th {\n",
       "        vertical-align: top;\n",
       "    }\n",
       "\n",
       "    .dataframe thead th {\n",
       "        text-align: right;\n",
       "    }\n",
       "</style>\n",
       "<table border=\"1\" class=\"dataframe\">\n",
       "  <thead>\n",
       "    <tr style=\"text-align: right;\">\n",
       "      <th></th>\n",
       "      <th>store</th>\n",
       "      <th>address</th>\n",
       "    </tr>\n",
       "  </thead>\n",
       "  <tbody>\n",
       "    <tr>\n",
       "      <th>0</th>\n",
       "      <td>台南海佃</td>\n",
       "      <td>台南市安南區海佃路一段274號</td>\n",
       "    </tr>\n",
       "    <tr>\n",
       "      <th>1</th>\n",
       "      <td>新竹巨城</td>\n",
       "      <td>新竹市東區中央路238號</td>\n",
       "    </tr>\n",
       "    <tr>\n",
       "      <th>2</th>\n",
       "      <td>台中豐原</td>\n",
       "      <td>台中市豐原區中正路109號</td>\n",
       "    </tr>\n",
       "    <tr>\n",
       "      <th>3</th>\n",
       "      <td>台北光華(ㄧ店)</td>\n",
       "      <td>台北市中正區新生南路一段14-3號</td>\n",
       "    </tr>\n",
       "    <tr>\n",
       "      <th>4</th>\n",
       "      <td>光華旗艦(二店)</td>\n",
       "      <td>台北市中正區八德路一段5之2號</td>\n",
       "    </tr>\n",
       "  </tbody>\n",
       "</table>\n",
       "</div>"
      ],
      "text/plain": [
       "      store               address\n",
       "0      台南海佃       台南市安南區海佃路一段274號\n",
       "1      新竹巨城  新竹市東區中央路238號        \n",
       "2      台中豐原         台中市豐原區中正路109號\n",
       "3  台北光華(ㄧ店)     台北市中正區新生南路一段14-3號\n",
       "4  光華旗艦(二店)       台北市中正區八德路一段5之2號"
      ]
     },
     "execution_count": 38,
     "metadata": {},
     "output_type": "execute_result"
    }
   ],
   "source": [
    "DataFrame = {\n",
    "    \"store\": store,\n",
    "    \"address\": address,\n",
    "}\n",
    "\n",
    "file_name = f\"地標網通\"\n",
    "df = pd.DataFrame(DataFrame)\n",
    "df.head()"
   ]
  },
  {
   "cell_type": "markdown",
   "id": "b6973e48",
   "metadata": {},
   "source": [
    "### 台灣主婦聯盟"
   ]
  },
  {
   "cell_type": "code",
   "execution_count": 46,
   "id": "44198075",
   "metadata": {},
   "outputs": [
    {
     "name": "stdout",
     "output_type": "stream",
     "text": [
      "Crawling: https://www.hucc-coop.tw/location/list?location_city=台北市&location_id=0\n",
      "Crawling: https://www.hucc-coop.tw/location/list?location_city=新北市&location_id=0\n",
      "Crawling: https://www.hucc-coop.tw/location/list?location_city=桃園市&location_id=0\n",
      "Crawling: https://www.hucc-coop.tw/location/list?location_city=新竹市&location_id=0\n",
      "Crawling: https://www.hucc-coop.tw/location/list?location_city=新竹縣&location_id=0\n",
      "Crawling: https://www.hucc-coop.tw/location/list?location_city=台中市&location_id=0\n",
      "Crawling: https://www.hucc-coop.tw/location/list?location_city=彰化縣&location_id=0\n",
      "Crawling: https://www.hucc-coop.tw/location/list?location_city=雲林縣&location_id=0\n",
      "Crawling: https://www.hucc-coop.tw/location/list?location_city=嘉義市&location_id=0\n",
      "Crawling: https://www.hucc-coop.tw/location/list?location_city=台南市&location_id=0\n",
      "Crawling: https://www.hucc-coop.tw/location/list?location_city=高雄市&location_id=0\n"
     ]
    }
   ],
   "source": [
    "store = []\n",
    "address = []\n",
    "\n",
    "c_list = [\"台北市\", \"新北市\", \"桃園市\", \"新竹市\", \"新竹縣\", \n",
    "          \"台中市\", \"彰化縣\", \"雲林縣\", \"嘉義市\", \"台南市\", \"高雄市\"]\n",
    "\n",
    "for city in c_list:\n",
    "    url = f\"https://www.hucc-coop.tw/location/list?location_city={city}&location_id=0\"\n",
    "    \n",
    "    re = requests.get(url)\n",
    "    print(\"Crawling:\", url)\n",
    "    \n",
    "    soup = BeautifulSoup(re.text, \"lxml\")\n",
    "    \n",
    "    for s in soup.find_all(\"div\", {\"class\": \"post-item-description\"}):\n",
    "        store.append(s.find(\"h3\").text)\n",
    "        for s1 in s.find_all(\"p\"):\n",
    "            if \"號\" in s1.text:\n",
    "                address.append(s1.text.split(\" \")[2])"
   ]
  },
  {
   "cell_type": "code",
   "execution_count": 47,
   "id": "2b24fb34",
   "metadata": {
    "scrolled": true
   },
   "outputs": [
    {
     "data": {
      "text/html": [
       "<div>\n",
       "<style scoped>\n",
       "    .dataframe tbody tr th:only-of-type {\n",
       "        vertical-align: middle;\n",
       "    }\n",
       "\n",
       "    .dataframe tbody tr th {\n",
       "        vertical-align: top;\n",
       "    }\n",
       "\n",
       "    .dataframe thead th {\n",
       "        text-align: right;\n",
       "    }\n",
       "</style>\n",
       "<table border=\"1\" class=\"dataframe\">\n",
       "  <thead>\n",
       "    <tr style=\"text-align: right;\">\n",
       "      <th></th>\n",
       "      <th>store</th>\n",
       "      <th>address</th>\n",
       "    </tr>\n",
       "  </thead>\n",
       "  <tbody>\n",
       "    <tr>\n",
       "      <th>0</th>\n",
       "      <td>東區站</td>\n",
       "      <td>台北市松山區八德路三段12巷52弄5號</td>\n",
       "    </tr>\n",
       "    <tr>\n",
       "      <th>1</th>\n",
       "      <td>南港站</td>\n",
       "      <td>台北市南港區研究院路二段12巷14弄4號</td>\n",
       "    </tr>\n",
       "    <tr>\n",
       "      <th>2</th>\n",
       "      <td>士林站</td>\n",
       "      <td>台北市士林區福志路50號</td>\n",
       "    </tr>\n",
       "    <tr>\n",
       "      <th>3</th>\n",
       "      <td>石牌站</td>\n",
       "      <td>台北市北投區明德路331巷2號</td>\n",
       "    </tr>\n",
       "    <tr>\n",
       "      <th>4</th>\n",
       "      <td>大直站</td>\n",
       "      <td>台北市中山區北安路630巷9弄17號</td>\n",
       "    </tr>\n",
       "  </tbody>\n",
       "</table>\n",
       "</div>"
      ],
      "text/plain": [
       "  store               address\n",
       "0   東區站   台北市松山區八德路三段12巷52弄5號\n",
       "1   南港站  台北市南港區研究院路二段12巷14弄4號\n",
       "2   士林站          台北市士林區福志路50號\n",
       "3   石牌站       台北市北投區明德路331巷2號\n",
       "4   大直站    台北市中山區北安路630巷9弄17號"
      ]
     },
     "execution_count": 47,
     "metadata": {},
     "output_type": "execute_result"
    }
   ],
   "source": [
    "DataFrame = {\n",
    "    \"store\": store,\n",
    "    \"address\": address,\n",
    "}\n",
    "\n",
    "file_name = f\"台灣主婦聯盟\"\n",
    "df = pd.DataFrame(DataFrame)\n",
    "df.head()"
   ]
  },
  {
   "cell_type": "code",
   "execution_count": null,
   "id": "398d4e33",
   "metadata": {},
   "outputs": [],
   "source": []
  },
  {
   "cell_type": "code",
   "execution_count": null,
   "id": "71cee0c8",
   "metadata": {},
   "outputs": [],
   "source": []
  }
 ],
 "metadata": {
  "kernelspec": {
   "display_name": "Python 3",
   "language": "python",
   "name": "python3"
  },
  "language_info": {
   "codemirror_mode": {
    "name": "ipython",
    "version": 3
   },
   "file_extension": ".py",
   "mimetype": "text/x-python",
   "name": "python",
   "nbconvert_exporter": "python",
   "pygments_lexer": "ipython3",
   "version": "3.8.8"
  }
 },
 "nbformat": 4,
 "nbformat_minor": 5
}
